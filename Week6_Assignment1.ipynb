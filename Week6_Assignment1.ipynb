{
 "cells": [
  {
   "cell_type": "markdown",
   "id": "30f6b4c0",
   "metadata": {},
   "source": [
    "# H1: \"Data Science Tools and Ecosystem\"\n"
   ]
  },
  {
   "cell_type": "markdown",
   "id": "796ad678",
   "metadata": {},
   "source": []
  },
  {
   "cell_type": "code",
   "execution_count": null,
   "id": "99e31b78",
   "metadata": {},
   "outputs": [],
   "source": [
    "\"In this notebook, Data Science Tools and Ecosystem are summarized.\""
   ]
  },
  {
   "cell_type": "markdown",
   "id": "ee7f0064",
   "metadata": {},
   "source": [
    "**Objectives:**\n",
    "- List popular languages for Data Science\n",
    "- Arithmetic Operations\n",
    "- List Data Science Libraries\n",
    "- List Data Science Tools\n",
    "- Convert minutes to hours"
   ]
  },
  {
   "cell_type": "markdown",
   "id": "a596c485",
   "metadata": {},
   "source": [
    "\"Some of the popular languages that Data Scientists use are:\"\n",
    "1. Python\n",
    "2. R\n",
    "3. Julia\n"
   ]
  },
  {
   "cell_type": "markdown",
   "id": "6ab68c5d",
   "metadata": {},
   "source": [
    "\"Some of the commonly used libraries used by Data Scientists include:\"\n",
    "1. NumPy\n",
    "2. Keras\n",
    "3. Pandas\n",
    "4. SciPy\n",
    "5. PandaTorch"
   ]
  },
  {
   "cell_type": "markdown",
   "id": "9b1df8df",
   "metadata": {},
   "source": [
    "\n",
    "|Data Science Tools|\n",
    "|-------------------|\n"
   ]
  },
  {
   "cell_type": "markdown",
   "id": "4cbbaba7",
   "metadata": {},
   "source": [
    "\n",
    "|Data Science Tools|\n",
    "|------------------|\n",
    "|Jupyter Notebooks|\n",
    "|R-Studio|\n",
    "|Apache Hadoop|\n"
   ]
  },
  {
   "cell_type": "code",
   "execution_count": 8,
   "id": "96ab180e",
   "metadata": {},
   "outputs": [
    {
     "data": {
      "text/plain": [
       "0.5"
      ]
     },
     "execution_count": 8,
     "metadata": {},
     "output_type": "execute_result"
    }
   ],
   "source": [
    "#H3: Below are a few examples of evaluating arithmetic expressions in Python\n",
    "1+2\n",
    "2-3\n",
    "2/4"
   ]
  },
  {
   "cell_type": "markdown",
   "id": "0b56fffa",
   "metadata": {},
   "source": [
    "#H3: Below are a few examples of evaluating arithmetic expressions in Python\n",
    "1+2"
   ]
  },
  {
   "cell_type": "markdown",
   "id": "b8961dc9",
   "metadata": {},
   "source": [
    "#H3: \"Below are a few examples of evaluating arithmetic expressions in Python\"\n",
    "1+2"
   ]
  },
  {
   "cell_type": "markdown",
   "id": "cb1670f2",
   "metadata": {},
   "source": [
    "# H3: \"Below are a few examples of evaluating arithmetic expressions in Python\"\n"
   ]
  },
  {
   "cell_type": "code",
   "execution_count": 10,
   "id": "c55c7e19",
   "metadata": {},
   "outputs": [
    {
     "data": {
      "text/plain": [
       "17"
      ]
     },
     "execution_count": 10,
     "metadata": {},
     "output_type": "execute_result"
    }
   ],
   "source": [
    "\"This a simple arithmetic expression to mutiply then add integers\"\n",
    "(3*4)+5"
   ]
  },
  {
   "cell_type": "markdown",
   "id": "cfe8b04e",
   "metadata": {},
   "source": []
  },
  {
   "cell_type": "code",
   "execution_count": 11,
   "id": "53544755",
   "metadata": {},
   "outputs": [
    {
     "ename": "SyntaxError",
     "evalue": "invalid syntax (1631946044.py, line 1)",
     "output_type": "error",
     "traceback": [
      "\u001b[1;36m  Cell \u001b[1;32mIn[11], line 1\u001b[1;36m\u001b[0m\n\u001b[1;33m    This will convert 200 minutes to hours by diving by 60\u001b[0m\n\u001b[1;37m         ^\u001b[0m\n\u001b[1;31mSyntaxError\u001b[0m\u001b[1;31m:\u001b[0m invalid syntax\n"
     ]
    }
   ],
   "source": [
    "This will convert 200 minutes to hours by diving by 60\n",
    "200/60"
   ]
  },
  {
   "cell_type": "code",
   "execution_count": 12,
   "id": "8444cd2f",
   "metadata": {},
   "outputs": [
    {
     "data": {
      "text/plain": [
       "3.3333333333333335"
      ]
     },
     "execution_count": 12,
     "metadata": {},
     "output_type": "execute_result"
    }
   ],
   "source": [
    "\"This will convert 200 minutes to hours by diving by 60\"\n",
    "200/60"
   ]
  },
  {
   "cell_type": "markdown",
   "id": "f8780224",
   "metadata": {},
   "source": [
    "# H2: Author\n",
    "Pallavi"
   ]
  },
  {
   "cell_type": "code",
   "execution_count": null,
   "id": "888fac3b",
   "metadata": {},
   "outputs": [],
   "source": []
  }
 ],
 "metadata": {
  "kernelspec": {
   "display_name": "Python 3 (ipykernel)",
   "language": "python",
   "name": "python3"
  },
  "language_info": {
   "codemirror_mode": {
    "name": "ipython",
    "version": 3
   },
   "file_extension": ".py",
   "mimetype": "text/x-python",
   "name": "python",
   "nbconvert_exporter": "python",
   "pygments_lexer": "ipython3",
   "version": "3.11.4"
  }
 },
 "nbformat": 4,
 "nbformat_minor": 5
}
